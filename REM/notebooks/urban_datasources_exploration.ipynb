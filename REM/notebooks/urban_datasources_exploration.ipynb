{
 "cells": [
  {
   "cell_type": "code",
   "execution_count": null,
   "id": "4bb51181",
   "metadata": {},
   "outputs": [],
   "source": [
    "#!pip install geopandas\n",
    "#!pip install pandas\n",
    "#!pip install mapclassify\n",
    "#!pip install rtree\n",
    "#!pip install matplotlib"
   ]
  },
  {
   "cell_type": "code",
   "execution_count": null,
   "id": "b6d2598c",
   "metadata": {},
   "outputs": [],
   "source": [
    "import geopandas as gpd\n",
    "import matplotlib.pyplot as plt"
   ]
  },
  {
   "cell_type": "code",
   "execution_count": null,
   "id": "da4cba26",
   "metadata": {},
   "outputs": [],
   "source": [
    "comunas = gpd.read_file('https://storage.googleapis.com/python_mdg/carto_cursos/comunas.zip')\n",
    "zona_sur = comunas[comunas['COMUNAS'].isin([4,8])].copy()"
   ]
  },
  {
   "cell_type": "code",
   "execution_count": null,
   "id": "e2b03ee0",
   "metadata": {},
   "outputs": [],
   "source": [
    "sur.bounds.loc[11]"
   ]
  },
  {
   "cell_type": "code",
   "execution_count": null,
   "id": "ba6a8fb8",
   "metadata": {},
   "outputs": [],
   "source": [
    "zona_sur.crs"
   ]
  },
  {
   "cell_type": "markdown",
   "id": "fc5183f9",
   "metadata": {},
   "source": [
    "## Frentes de parcelas: \n",
    "\n",
    "* líneas de los frentes de las parcelas"
   ]
  },
  {
   "cell_type": "code",
   "execution_count": null,
   "id": "e84dad40",
   "metadata": {},
   "outputs": [],
   "source": [
    "fte_root = 'https://cdn.buenosaires.gob.ar/datosabiertos/datasets/secretaria-de-desarrollo-urbano/parcelas/frentes-parcelas.geojson'\n",
    "fte_parcelas = gpd.read_file(fte_root)\n",
    "sur = zona_sur.to_crs(fte_parcelas.crs)\n",
    "fte_parcelas_sur = fte_parcelas.clip(sur)"
   ]
  },
  {
   "cell_type": "code",
   "execution_count": null,
   "id": "f44f95f0",
   "metadata": {},
   "outputs": [],
   "source": [
    "fte_parcelas_sur.plot();"
   ]
  },
  {
   "cell_type": "markdown",
   "id": "d1bc3505",
   "metadata": {},
   "source": [
    "## Parcelas\n",
    "\n",
    "* Polígonos de las parcelas "
   ]
  },
  {
   "cell_type": "code",
   "execution_count": null,
   "id": "d0b3a0e4",
   "metadata": {},
   "outputs": [],
   "source": [
    "par_root = 'https://cdn.buenosaires.gob.ar/datosabiertos/datasets/secretaria-de-desarrollo-urbano/parcelas/parcelas.geojson'\n",
    "#parcelas = gpd.read_file(par_root)\n",
    "sur = zona_sur.to_crs(parcelas.crs)\n",
    "parcelas_sur = parcelas.clip(sur)"
   ]
  },
  {
   "cell_type": "code",
   "execution_count": null,
   "id": "9737b09e",
   "metadata": {},
   "outputs": [],
   "source": [
    "parcelas_sur['sup_edif_'] = parcelas_sur['sup_edif'].fillna('0').astype(int)"
   ]
  },
  {
   "cell_type": "code",
   "execution_count": null,
   "id": "5f08103e",
   "metadata": {},
   "outputs": [],
   "source": [
    "f,ax = plt.subplots(figsize=(12,8))\n",
    "parcelas_sur.plot(ax=ax, column='sup_edif_', k=3, cmap='YlOrRd', \n",
    "                  scheme='NaturalBreaks', edgecolor='gray', linewidth=0.05,\n",
    "                  legend=True, legend_kwds={'loc': 'center left', 'bbox_to_anchor':(1,0.5)})\n",
    "ax.set_axis_off();"
   ]
  },
  {
   "cell_type": "markdown",
   "id": "1729ca20",
   "metadata": {},
   "source": [
    "#### API CATASTRO\n",
    "\n",
    "* Documentacion en [link](https://datosabiertos-apis.buenosaires.gob.ar/BA_Root/Documentacion?schema_name=catastro)\n",
    "\n",
    "Sirve para consultar geometria y data"
   ]
  },
  {
   "cell_type": "code",
   "execution_count": null,
   "id": "42e62673",
   "metadata": {},
   "outputs": [],
   "source": [
    "from REM.datasources import *"
   ]
  },
  {
   "cell_type": "code",
   "execution_count": null,
   "id": "4a593e80",
   "metadata": {},
   "outputs": [],
   "source": [
    "root='../data/parcelas_smp_index.csv'\n",
    "smp_parcelas = pd.read_csv(root)"
   ]
  },
  {
   "cell_type": "code",
   "execution_count": null,
   "id": "a831aab0",
   "metadata": {},
   "outputs": [],
   "source": [
    "pcls = api_parcelas(smp_parcelas['smp'].head(10))"
   ]
  },
  {
   "cell_type": "code",
   "execution_count": null,
   "id": "31a072c3",
   "metadata": {},
   "outputs": [],
   "source": [
    "pd.concat(pcls).plot();"
   ]
  },
  {
   "cell_type": "code",
   "execution_count": null,
   "id": "ac53873e",
   "metadata": {},
   "outputs": [],
   "source": [
    "pd.concat(pcls).columns"
   ]
  },
  {
   "cell_type": "code",
   "execution_count": null,
   "id": "a07edbd7",
   "metadata": {},
   "outputs": [],
   "source": [
    "pd.concat(pcls).head()[[]]"
   ]
  },
  {
   "cell_type": "markdown",
   "id": "4a92f0e4",
   "metadata": {},
   "source": [
    "## Codigo urbanistico (actualizado a 3/12/2020)\n",
    "\n",
    "* Diccionario de fields en [link](https://data.buenosaires.gob.ar/dataset/codigo-urbanistico/resource/40e01734-0798-426d-9969-b7a6ce1ea693)"
   ]
  },
  {
   "cell_type": "code",
   "execution_count": null,
   "id": "f623968c",
   "metadata": {},
   "outputs": [],
   "source": [
    "cu_root ='https://cdn.buenosaires.gob.ar/datosabiertos/datasets/secretaria-de-desarrollo-urbano/codigo-urbanistico/codigo-urbanistico.geojson'\n",
    "cu = gpd.read_file(cu_root)"
   ]
  },
  {
   "cell_type": "code",
   "execution_count": null,
   "id": "a0b9428f",
   "metadata": {},
   "outputs": [],
   "source": [
    "cu.head()"
   ]
  },
  {
   "cell_type": "code",
   "execution_count": null,
   "id": "d87ff357",
   "metadata": {},
   "outputs": [],
   "source": [
    "cu_sur = cu.clip(sur)"
   ]
  },
  {
   "cell_type": "code",
   "execution_count": null,
   "id": "d66f504a",
   "metadata": {},
   "outputs": [],
   "source": [
    "cu_sur.columns"
   ]
  },
  {
   "cell_type": "code",
   "execution_count": null,
   "id": "185b3799",
   "metadata": {},
   "outputs": [],
   "source": [
    "cu_sur['plano_l'].describe()"
   ]
  },
  {
   "cell_type": "code",
   "execution_count": null,
   "id": "1b9c520c",
   "metadata": {},
   "outputs": [],
   "source": [
    "f,ax = plt.subplots(figsize=(14,8))\n",
    "cu_sur.plot(ax=ax, column='uni_edif_1', k=3, cmap='Greys', \n",
    "                  scheme='NaturalBreaks', edgecolor='gray', linewidth=0.05,\n",
    "                  legend=True, legend_kwds={'loc': 'center left', 'bbox_to_anchor':(1,0.5)})\n",
    "ax.set_axis_off()\n",
    "ax.set_title('Unidad de edificabilidad 1 (altura maxima)',fontsize=20)\n",
    "plt.tight_layout();"
   ]
  },
  {
   "cell_type": "code",
   "execution_count": null,
   "id": "b30c3faa",
   "metadata": {},
   "outputs": [],
   "source": [
    "f,ax = plt.subplots(figsize=(14,8))\n",
    "cu_sur.plot(ax=ax, column='uso_1', k=3, cmap='Purples', \n",
    "                  scheme='NaturalBreaks', edgecolor='gray', linewidth=0.05,\n",
    "                  legend=True, legend_kwds={'loc': 'center left', 'bbox_to_anchor':(1,0.5)})\n",
    "ax.set_axis_off()\n",
    "ax.set_title('Mixtura de uso 1',fontsize=20)\n",
    "plt.tight_layout();"
   ]
  },
  {
   "cell_type": "code",
   "execution_count": null,
   "id": "5810105c",
   "metadata": {},
   "outputs": [],
   "source": [
    "fig, ax = plt.subplots(1, figsize=(14,8))\n",
    "cu_sur.plot(column='dist_1_grp', categorical=True, cmap='Spectral', linewidth=.6, edgecolor='0.2',\n",
    "         legend=True, legend_kwds={'bbox_to_anchor':(.3, 1.05),'fontsize':16,'frameon':False}, ax=ax)\n",
    "ax.axis('off')\n",
    "ax.set_title('Distrito especial agrupado 1',fontsize=20)\n",
    "plt.tight_layout()"
   ]
  },
  {
   "cell_type": "code",
   "execution_count": null,
   "id": "1da15d76",
   "metadata": {},
   "outputs": [],
   "source": [
    "f,ax = plt.subplots(figsize=(14,8))\n",
    "cu_sur.plot(ax=ax, column='inc_uva_19', k=3, cmap='plasma', \n",
    "                  scheme='NaturalBreaks', edgecolor='gray', linewidth=0.05,\n",
    "                  legend=True, legend_kwds={'loc': 'center left', 'bbox_to_anchor':(1,0.5)})\n",
    "ax.set_axis_off()\n",
    "ax.set_title('Valor del terreno en UVAs por metro cuadrado de superficie según ley 6.062',fontsize=20)\n",
    "plt.tight_layout();"
   ]
  },
  {
   "cell_type": "code",
   "execution_count": null,
   "id": "bc5e6366",
   "metadata": {},
   "outputs": [],
   "source": [
    "f,ax = plt.subplots(figsize=(14,8))\n",
    "cu_sur.plot(ax=ax, column='fot_em_1', k=3, cmap='magma', \n",
    "                  scheme='NaturalBreaks', edgecolor='gray', linewidth=0.05,\n",
    "                  legend=True, legend_kwds={'loc': 'center left', 'bbox_to_anchor':(1,0.5)})\n",
    "ax.set_axis_off()\n",
    "ax.set_title('',fontsize=20)\n",
    "plt.tight_layout();"
   ]
  },
  {
   "cell_type": "markdown",
   "id": "01699f79",
   "metadata": {},
   "source": [
    "## Volumen edificable\n",
    "\n",
    "* Máximo edificable por parcela"
   ]
  },
  {
   "cell_type": "code",
   "execution_count": null,
   "id": "c41dc0c2",
   "metadata": {},
   "outputs": [],
   "source": [
    "vol_root = 'https://cdn.buenosaires.gob.ar/datosabiertos/datasets/secretaria-de-desarrollo-urbano/area-edificable-volumen/volumen_edif.geojson'\n",
    "vol_edif = gpd.read_file(vol_root)"
   ]
  },
  {
   "cell_type": "code",
   "execution_count": null,
   "id": "f38a723d",
   "metadata": {},
   "outputs": [],
   "source": [
    "vol_edif.head()"
   ]
  },
  {
   "cell_type": "code",
   "execution_count": null,
   "id": "8cacad72",
   "metadata": {},
   "outputs": [],
   "source": [
    "vol_edif_sur = vol_edif.clip(sur)"
   ]
  },
  {
   "cell_type": "markdown",
   "id": "c269194a",
   "metadata": {},
   "source": [
    "## Superficie en planta edificable\n",
    "\n",
    "* Superficie edificable por parcela"
   ]
  },
  {
   "cell_type": "code",
   "execution_count": null,
   "id": "bb97f84a",
   "metadata": {},
   "outputs": [],
   "source": [
    "sup_root = 'https://cdn.buenosaires.gob.ar/datosabiertos/datasets/secretaria-de-desarrollo-urbano/superficie-edificable-en-planta/superficie_edificable.geojson'\n",
    "sup_edif = gpd.read_file(sup_root)"
   ]
  },
  {
   "cell_type": "code",
   "execution_count": null,
   "id": "c8847a3a",
   "metadata": {},
   "outputs": [],
   "source": [
    "sup_edif.head()"
   ]
  },
  {
   "cell_type": "code",
   "execution_count": null,
   "id": "0b145299",
   "metadata": {},
   "outputs": [],
   "source": [
    "sup_edif_sur = sup_edif.clip(sur)"
   ]
  },
  {
   "cell_type": "markdown",
   "id": "f327d961",
   "metadata": {},
   "source": [
    "## Franja edificable\n",
    "\n",
    "* Lineas internas de basamento (Traza del plano que limita la edificación permitida en una parcela con el centro libre de manzana)\n",
    "\n"
   ]
  },
  {
   "cell_type": "code",
   "execution_count": null,
   "id": "0a10424d",
   "metadata": {},
   "outputs": [],
   "source": [
    "lim_root = 'https://cdn.buenosaires.gob.ar/datosabiertos/datasets/secretaria-de-desarrollo-urbano/franja-edificable-lineas/lib.geojson'\n",
    "sup_lim = gpd.read_file(lim_root)"
   ]
  },
  {
   "cell_type": "code",
   "execution_count": null,
   "id": "8bae5821",
   "metadata": {},
   "outputs": [],
   "source": [
    "sup_lim.head()"
   ]
  },
  {
   "cell_type": "code",
   "execution_count": null,
   "id": "eaf293b0",
   "metadata": {},
   "outputs": [],
   "source": [
    "sup_lim_sur = sup_lim.clip(sur)"
   ]
  },
  {
   "cell_type": "code",
   "execution_count": null,
   "id": "d1f4e41f",
   "metadata": {},
   "outputs": [],
   "source": [
    "sup_lim_sur.plot();"
   ]
  },
  {
   "cell_type": "markdown",
   "id": "8b6bce16",
   "metadata": {},
   "source": [
    "## Banda minima edificable\n",
    "\n",
    "* Información sobre la banda mínima edificable del nuevo Código Urbanístico."
   ]
  },
  {
   "cell_type": "code",
   "execution_count": null,
   "id": "95682de3",
   "metadata": {},
   "outputs": [],
   "source": [
    "bme_root = 'https://cdn.buenosaires.gob.ar/datosabiertos/datasets/secretaria-de-desarrollo-urbano/banda-minima-edificable/banda_minima.geojson'\n",
    "bme = gpd.read_file(bme_root)"
   ]
  },
  {
   "cell_type": "code",
   "execution_count": null,
   "id": "fa7df30e",
   "metadata": {},
   "outputs": [],
   "source": [
    "bme_sur = bme.clip(sur)"
   ]
  },
  {
   "cell_type": "code",
   "execution_count": null,
   "id": "e60b7d1a",
   "metadata": {},
   "outputs": [],
   "source": [
    "bme_sur.head()"
   ]
  },
  {
   "cell_type": "code",
   "execution_count": null,
   "id": "03c44e2e",
   "metadata": {},
   "outputs": [],
   "source": [
    "bme_sur.plot();"
   ]
  },
  {
   "cell_type": "code",
   "execution_count": null,
   "id": "d9ad9701",
   "metadata": {},
   "outputs": [],
   "source": [
    "bme_sur['fuente'].value_counts()"
   ]
  },
  {
   "cell_type": "markdown",
   "id": "3f5723f6",
   "metadata": {},
   "source": [
    "## Veredas"
   ]
  },
  {
   "cell_type": "code",
   "execution_count": null,
   "id": "cb1e863a",
   "metadata": {},
   "outputs": [],
   "source": [
    "veredas_root = 'https://cdn.buenosaires.gob.ar/datosabiertos/datasets/veredas/veredas-2019.geojson'\n",
    "veredas = gpd.read_file(veredas_root)\n",
    "veredas_sur = veredas.clip(sur)"
   ]
  },
  {
   "cell_type": "code",
   "execution_count": null,
   "id": "6ebc27c5",
   "metadata": {},
   "outputs": [],
   "source": [
    "veredas_sur.head()"
   ]
  },
  {
   "cell_type": "code",
   "execution_count": null,
   "id": "301f235b",
   "metadata": {},
   "outputs": [],
   "source": [
    "veredas_sur.plot();"
   ]
  },
  {
   "cell_type": "markdown",
   "id": "187ff88f",
   "metadata": {},
   "source": [
    "## Tejido urbano"
   ]
  },
  {
   "cell_type": "code",
   "execution_count": null,
   "id": "0d08697c",
   "metadata": {},
   "outputs": [],
   "source": [
    "tejido_root = 'https://cdn.buenosaires.gob.ar/datosabiertos/datasets/secretaria-de-desarrollo-urbano/tejido-urbano/tejido.geojson'\n",
    "tejido_urbano = gpd.read_file(tejido_root)\n",
    "tejido_urbano_sur = tejido_urbano.clip(sur)"
   ]
  },
  {
   "cell_type": "code",
   "execution_count": null,
   "id": "2fcd6c28",
   "metadata": {},
   "outputs": [],
   "source": [
    "tejido_urbano_sur.head()"
   ]
  },
  {
   "cell_type": "code",
   "execution_count": null,
   "id": "4c586297",
   "metadata": {},
   "outputs": [],
   "source": [
    "tejido_urbano_sur.plot();"
   ]
  },
  {
   "cell_type": "code",
   "execution_count": null,
   "id": "337ff045",
   "metadata": {},
   "outputs": [],
   "source": [
    "tejido_urbano['tipo'].value_counts()"
   ]
  },
  {
   "cell_type": "markdown",
   "id": "310d1174",
   "metadata": {},
   "source": [
    "## Lineas constructivas particularizadas\n",
    "\n",
    "* Información sobre restricciones urbanísticas. Incluye afectaciones como líneas particularizadas, afectaciones, el Cinturón Digital, la limitación de Altura Aeronáutica, entre otras."
   ]
  },
  {
   "cell_type": "code",
   "execution_count": null,
   "id": "bfff8770",
   "metadata": {},
   "outputs": [],
   "source": [
    "lcp_root = 'data/restricciones.zip'\n",
    "lcp = gpd.read_file(lcp_root)"
   ]
  },
  {
   "cell_type": "code",
   "execution_count": null,
   "id": "e6bb31fe",
   "metadata": {},
   "outputs": [],
   "source": [
    "lcp_sur = lcp.clip(sur)"
   ]
  },
  {
   "cell_type": "code",
   "execution_count": null,
   "id": "e4b4e4a8",
   "metadata": {},
   "outputs": [],
   "source": [
    "lcp.head()"
   ]
  },
  {
   "cell_type": "markdown",
   "id": "dc454ea2",
   "metadata": {},
   "source": [
    "## Conjuntos habitacionales"
   ]
  },
  {
   "cell_type": "code",
   "execution_count": null,
   "id": "b7beffbc",
   "metadata": {},
   "outputs": [],
   "source": [
    "conj_root = 'data/CONJ_HABIT_2017/CONJ_HABIT_2017.shp'\n",
    "conj_habit = gpd.read_file(conj_root)\n",
    "conj_habit_sur = conj_habit.clip(sur)"
   ]
  }
 ],
 "metadata": {
  "kernelspec": {
   "display_name": "REM",
   "language": "python",
   "name": "rem"
  },
  "language_info": {
   "codemirror_mode": {
    "name": "ipython",
    "version": 3
   },
   "file_extension": ".py",
   "mimetype": "text/x-python",
   "name": "python",
   "nbconvert_exporter": "python",
   "pygments_lexer": "ipython3",
   "version": "3.10.4"
  }
 },
 "nbformat": 4,
 "nbformat_minor": 5
}
