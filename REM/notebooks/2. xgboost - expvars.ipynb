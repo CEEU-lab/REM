{
 "cells": [
  {
   "cell_type": "markdown",
   "id": "18ec1665",
   "metadata": {},
   "source": [
    "# Generación de variables explicativas para parcelas sin precio"
   ]
  },
  {
   "cell_type": "code",
   "execution_count": null,
   "id": "eae6497c",
   "metadata": {},
   "outputs": [],
   "source": [
    "import pandas as pd\n",
    "import numpy as np\n",
    "import geopandas as gpd\n",
    "import matplotlib.pyplot as plt"
   ]
  },
  {
   "cell_type": "markdown",
   "id": "6cdde8ef",
   "metadata": {},
   "source": [
    "# 1. Dataset"
   ]
  },
  {
   "cell_type": "code",
   "execution_count": null,
   "id": "020aef59",
   "metadata": {},
   "outputs": [],
   "source": [
    "parcelas = gpd.read_file('../data/parcelas_sur_prices_.geojson')"
   ]
  },
  {
   "cell_type": "code",
   "execution_count": null,
   "id": "7cc6e96a",
   "metadata": {},
   "outputs": [],
   "source": [
    "f, ax = plt.subplots(figsize=(12,8))\n",
    "\n",
    "parcelas.geometry.boundary.plot(ax=ax, color='black', linewidth=0.01)\n",
    "parcelas[~parcelas['usdm2'].isin([np.nan, np.inf, -np.inf])].plot(column='usdm2', ax=ax, legend=True)\n",
    "ax.set_axis_off();"
   ]
  },
  {
   "cell_type": "code",
   "execution_count": null,
   "id": "a2ff72bc",
   "metadata": {},
   "outputs": [],
   "source": [
    "from REM.utils import neighbor_fields"
   ]
  },
  {
   "cell_type": "code",
   "execution_count": null,
   "id": "753ecf44",
   "metadata": {},
   "outputs": [],
   "source": [
    "# vecinos\n",
    "gkbs = '+proj=tmerc +lat_0=-34.6297166 +lon_0=-58.4627 +k=0.9999980000000001 +x_0=100000 +y_0=100000 +ellps=intl +units=m +no_defs'\n",
    "parcels_nanin = parcelas[parcelas['usdm2_f'].isna()].copy()\n",
    "parcelas_ = neighbor_fields(poly_gdf=parcels_nanin, \n",
    "                            proj=gkbs, N=1, field_name='usdm2_f')"
   ]
  },
  {
   "cell_type": "code",
   "execution_count": null,
   "id": "53d8dd2d",
   "metadata": {},
   "outputs": [],
   "source": [
    "len(parcelas_)"
   ]
  },
  {
   "cell_type": "code",
   "execution_count": null,
   "id": "0b83928f",
   "metadata": {},
   "outputs": [],
   "source": [
    "# UNIVERSO TOTAL\n",
    "parcelas[['usdm2','usdm2_f','price_adj']].isna().value_counts()"
   ]
  },
  {
   "cell_type": "code",
   "execution_count": null,
   "id": "5bcea8cd",
   "metadata": {},
   "outputs": [],
   "source": [
    "parcelas_.head(3)"
   ]
  },
  {
   "cell_type": "markdown",
   "id": "e3148dba",
   "metadata": {},
   "source": [
    "# 2. Target & Variables explicativas"
   ]
  },
  {
   "cell_type": "code",
   "execution_count": null,
   "id": "2dde3337",
   "metadata": {},
   "outputs": [],
   "source": [
    "from REM.datasources import api_parcelas"
   ]
  },
  {
   "cell_type": "code",
   "execution_count": null,
   "id": "33463683",
   "metadata": {},
   "outputs": [],
   "source": [
    "parcelas_extra_ft = api_parcelas(parcelas_['smp'].values)"
   ]
  },
  {
   "cell_type": "code",
   "execution_count": null,
   "id": "fc0e0591",
   "metadata": {},
   "outputs": [],
   "source": [
    "parcelas_xtft_df = pd.concat(parcelas_extra_ft)"
   ]
  },
  {
   "cell_type": "code",
   "execution_count": null,
   "id": "1cbb84b0",
   "metadata": {},
   "outputs": [],
   "source": [
    "api_cols = ['superficie_total', 'superficie_cubierta', 'frente', 'fondo',\n",
    "            'propiedad_horizontal', 'pisos_bajo_rasante', 'pisos_sobre_rasante',\n",
    "            'unidades_funcionales', 'locales', 'vuc', 'cantidad_puertas',\n",
    "            'lon_ctroid', 'lat_ctroid']"
   ]
  },
  {
   "cell_type": "code",
   "execution_count": null,
   "id": "5d761a5d",
   "metadata": {},
   "outputs": [],
   "source": [
    "api_feat = parcelas_xtft_df[api_cols].copy()"
   ]
  },
  {
   "cell_type": "code",
   "execution_count": null,
   "id": "f8edae6b",
   "metadata": {},
   "outputs": [],
   "source": [
    "api_feat.head(2)"
   ]
  },
  {
   "cell_type": "code",
   "execution_count": null,
   "id": "d8bb8ca0",
   "metadata": {},
   "outputs": [],
   "source": [
    "parcelas_base = parcelas_.set_index('smp').copy()"
   ]
  },
  {
   "cell_type": "code",
   "execution_count": null,
   "id": "4b7b6ddd",
   "metadata": {},
   "outputs": [],
   "source": [
    "corrections = []\n",
    "for idx in parcelas_base.index:\n",
    "    if idx[-1].islower():\n",
    "        corrections.append(idx[:-1]+idx[-1].upper())\n",
    "    else:\n",
    "        corrections.append(idx)"
   ]
  },
  {
   "cell_type": "code",
   "execution_count": null,
   "id": "eff6df44",
   "metadata": {},
   "outputs": [],
   "source": [
    "parcelas_base.index = corrections"
   ]
  },
  {
   "cell_type": "code",
   "execution_count": null,
   "id": "5782fd22",
   "metadata": {},
   "outputs": [],
   "source": [
    "len(parcelas_base)"
   ]
  },
  {
   "cell_type": "code",
   "execution_count": null,
   "id": "f875e5d3",
   "metadata": {},
   "outputs": [],
   "source": [
    "xvars_union = parcelas_base.join(api_feat)\n",
    "xvars_union['lat_ctroid'].isna().value_counts() # 5 perdidos"
   ]
  },
  {
   "cell_type": "code",
   "execution_count": null,
   "id": "cca55458",
   "metadata": {},
   "outputs": [],
   "source": [
    "parcel_feats = xvars_union.loc[~xvars_union['lat_ctroid'].isna()].copy()"
   ]
  },
  {
   "cell_type": "code",
   "execution_count": null,
   "id": "285a3ac6",
   "metadata": {},
   "outputs": [],
   "source": [
    "parcel_feats.info()"
   ]
  },
  {
   "cell_type": "code",
   "execution_count": null,
   "id": "47220e08",
   "metadata": {},
   "outputs": [],
   "source": [
    "parcel_feats['usdm2_f'].isna().value_counts()"
   ]
  },
  {
   "cell_type": "code",
   "execution_count": null,
   "id": "4d0ed08a",
   "metadata": {},
   "outputs": [],
   "source": [
    "parcel_feats.info()"
   ]
  },
  {
   "cell_type": "code",
   "execution_count": null,
   "id": "2bac939c",
   "metadata": {},
   "outputs": [],
   "source": [
    "parcel_feats['superficie_total']= parcel_feats['superficie_total'].astype(float)\n",
    "parcel_feats['superficie_cubierta'] = parcel_feats['superficie_cubierta'].astype(float)\n",
    "parcel_feats['frente'] = parcel_feats['frente'].astype(float)\n",
    "parcel_feats['fondo'] = parcel_feats['fondo'].astype(float)\n",
    "parcel_feats['propiedad_horizontal'] = parcel_feats['propiedad_horizontal'].replace({'Si':1, 'No':0})\n",
    "parcel_feats['pisos_bajo_rasante'] = parcel_feats['pisos_bajo_rasante'].astype(float)\n",
    "parcel_feats['pisos_sobre_rasante'] = parcel_feats['pisos_sobre_rasante'].astype(float)\n",
    "parcel_feats['unidades_funcionales'] = parcel_feats['unidades_funcionales'].astype(float)\n",
    "parcel_feats['locales'] = parcel_feats['locales'].astype(float)\n",
    "parcel_feats['vuc'] = parcel_feats['vuc'].astype(float)\n",
    "parcel_feats['cantidad_puertas'] = parcel_feats['cantidad_puertas'].astype(float)"
   ]
  },
  {
   "cell_type": "code",
   "execution_count": null,
   "id": "94f16a87",
   "metadata": {},
   "outputs": [],
   "source": [
    "parcel_feats.info()"
   ]
  },
  {
   "cell_type": "code",
   "execution_count": null,
   "id": "ca6c392b",
   "metadata": {},
   "outputs": [],
   "source": [
    "parcel_feats.columns"
   ]
  },
  {
   "cell_type": "code",
   "execution_count": null,
   "id": "f786130e",
   "metadata": {},
   "outputs": [],
   "source": [
    "parcel_feats"
   ]
  },
  {
   "cell_type": "code",
   "execution_count": null,
   "id": "2f765e5f",
   "metadata": {},
   "outputs": [],
   "source": [
    "expvars = ['nearest_price_1', 'nearest_area_1','nearest_price_2', 'nearest_area_2',\n",
    "           'superficie_total', 'superficie_cubierta', \n",
    "           'frente','fondo', 'propiedad_horizontal', 'pisos_bajo_rasante',\n",
    "           'pisos_sobre_rasante', 'unidades_funcionales', 'locales', 'vuc',\n",
    "           'cantidad_puertas', 'lon_ctroid', 'lat_ctroid']"
   ]
  },
  {
   "cell_type": "code",
   "execution_count": null,
   "id": "1474ba18",
   "metadata": {},
   "outputs": [],
   "source": [
    "parcel_feats[expvars].to_csv('../data/sprecio_expvars.csv')"
   ]
  }
 ],
 "metadata": {
  "kernelspec": {
   "display_name": "REM",
   "language": "python",
   "name": "rem"
  },
  "language_info": {
   "codemirror_mode": {
    "name": "ipython",
    "version": 3
   },
   "file_extension": ".py",
   "mimetype": "text/x-python",
   "name": "python",
   "nbconvert_exporter": "python",
   "pygments_lexer": "ipython3",
   "version": "3.10.4"
  }
 },
 "nbformat": 4,
 "nbformat_minor": 5
}
